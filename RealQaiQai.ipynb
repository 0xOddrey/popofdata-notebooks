{
  "nbformat": 4,
  "nbformat_minor": 0,
  "metadata": {
    "colab": {
      "name": "RealQaiQai",
      "version": "0.3.2",
      "provenance": [],
      "include_colab_link": true
    },
    "kernelspec": {
      "name": "python3",
      "display_name": "Python 3"
    }
  },
  "cells": [
    {
      "cell_type": "markdown",
      "metadata": {
        "id": "view-in-github",
        "colab_type": "text"
      },
      "source": [
        "<a href=\"https://colab.research.google.com/github/audreyakwenye/popofdata-notebooks/blob/master/RealQaiQai.ipynb\" target=\"_parent\"><img src=\"https://colab.research.google.com/assets/colab-badge.svg\" alt=\"Open In Colab\"/></a>"
      ]
    },
    {
      "metadata": {
        "id": "eVWKfsDQqscX",
        "colab_type": "code",
        "outputId": "9b003d0e-31ce-4376-94bf-b2fc849a3ed7",
        "colab": {
          "base_uri": "https://localhost:8080/",
          "height": 289
        }
      },
      "cell_type": "code",
      "source": [
        "!pip install basilica"
      ],
      "execution_count": 1,
      "outputs": [
        {
          "output_type": "stream",
          "text": [
            "Collecting basilica\n",
            "  Downloading https://files.pythonhosted.org/packages/e4/37/c6c9f41e7776847d095e0bf0d7d2d9b959239c3f3d96fa0d1b0aae3bd155/basilica-0.2.6.tar.gz\n",
            "Requirement already satisfied: requests in /usr/local/lib/python3.6/dist-packages (from basilica) (2.18.4)\n",
            "Requirement already satisfied: six in /usr/local/lib/python3.6/dist-packages (from basilica) (1.11.0)\n",
            "Requirement already satisfied: Pillow in /usr/local/lib/python3.6/dist-packages (from basilica) (4.3.0)\n",
            "Requirement already satisfied: chardet<3.1.0,>=3.0.2 in /usr/local/lib/python3.6/dist-packages (from requests->basilica) (3.0.4)\n",
            "Requirement already satisfied: urllib3<1.23,>=1.21.1 in /usr/local/lib/python3.6/dist-packages (from requests->basilica) (1.22)\n",
            "Requirement already satisfied: certifi>=2017.4.17 in /usr/local/lib/python3.6/dist-packages (from requests->basilica) (2019.3.9)\n",
            "Requirement already satisfied: idna<2.7,>=2.5 in /usr/local/lib/python3.6/dist-packages (from requests->basilica) (2.6)\n",
            "Requirement already satisfied: olefile in /usr/local/lib/python3.6/dist-packages (from Pillow->basilica) (0.46)\n",
            "Building wheels for collected packages: basilica\n",
            "  Building wheel for basilica (setup.py) ... \u001b[?25ldone\n",
            "\u001b[?25h  Stored in directory: /root/.cache/pip/wheels/98/53/41/06a6ea54de7f8859628e0119a765e1357c537c19d6ca37c41e\n",
            "Successfully built basilica\n",
            "Installing collected packages: basilica\n",
            "Successfully installed basilica-0.2.6\n"
          ],
          "name": "stdout"
        }
      ]
    },
    {
      "metadata": {
        "id": "Ci_0zogrpOsF",
        "colab_type": "code",
        "colab": {}
      },
      "cell_type": "code",
      "source": [
        "import basilica\n",
        "import tweepy\n",
        "\n",
        "\n",
        "TWITTER_AUTH = tweepy.OAuthHandler(('LCvsZHq5crsrA7wgyIv7RgbiJ'),('WqkW7GIJQf0aItNppvwaa9tP9hzosEiT72LQQ9ai7JvxIN6Qc5'))\n",
        "TWITTER_AUTH.set_access_token(('144438950-HGdLklLXDJOa1wSUK5q7y5OZm3D1SW6ZULCxXtuO'), ('MIJU1gewMU1CTRdio7y2LChJc1MrcA7NmDnJUXFKAR3o9'))\n",
        "TWITTER = tweepy.API(TWITTER_AUTH)\n",
        "\n",
        "BASILICA = basilica.Connection('2ec06df2-db38-1bf4-77c3-303b3bb27550')\n",
        "\n",
        "# User 1 \n",
        "username = \"serenawilliams\"\n",
        "number_of_tweets=200\n",
        "tweets = TWITTER.user_timeline(username, count=200, exclude_replies=True, include_rts=False, tweet_mode='extended') \n",
        "tmp=[]  \n",
        "user1 = []\n",
        "tweet_times = []\n",
        "tweets_for_csv = [tweet.full_text for tweet in tweets] # CSV file created  \n",
        "for j in tweets_for_csv: \n",
        "  tmp.append(j)  \n",
        "for tweet in tweets:\n",
        "  user1_embedding = BASILICA.embed_sentence(tweet.full_text, model='twitter')\n",
        "  user1.append(user1_embedding) \n",
        "tweets_times = [tweet.created_at for tweet in tweets] # CSV file created  \n",
        "for tt in tweets_for_csv: \n",
        "  tweet_times.append(tt) \n",
        "\n",
        "#user 2 \n",
        "username2 = \"alexisohanian\"\n",
        "number_of_tweets=200\n",
        "tweets2 = TWITTER.user_timeline(username2, count=200, exclude_replies=True, include_rts=False, tweet_mode='extended')  \n",
        "tmp2=[]  \n",
        "user2 = []\n",
        "tweet_times2 = []\n",
        "tweets_for_csv = [tweet.full_text for tweet in tweets2] # CSV file created  \n",
        "for j in tweets_for_csv: \n",
        "  tmp2.append(j)  \n",
        "for tweet in tweets2:\n",
        "  user2_embedding = BASILICA.embed_sentence(tweet.full_text, model='twitter')\n",
        "  user2.append(user2_embedding) \n",
        "tweets_times = [tweet.created_at for tweet in tweets] # CSV file created  \n",
        "for tt in tweets_for_csv: \n",
        "  tweet_times2.append(tt) \n",
        "  \n",
        "#user 3 \n",
        "username3 = \"RealQaiQai\" \n",
        "number_of_tweets=200\n",
        "tweets3 = TWITTER.user_timeline(username3, count=200, exclude_replies=True, include_rts=False, tweet_mode='extended')  \n",
        "tmp3=[]  \n",
        "user3 = []\n",
        "tweet_times3 = []\n",
        "tweets_for_csv = [tweet.full_text for tweet in tweets3] # CSV file created  \n",
        "for j in tweets_for_csv: \n",
        "  tmp3.append(j)  \n",
        "for tweet in tweets3:\n",
        "  user3_embedding = BASILICA.embed_sentence(tweet.full_text, model='twitter')\n",
        "  user3.append(user3_embedding) \n",
        "tweets_times = [tweet.created_at for tweet in tweets] # CSV file created  \n",
        "for tt in tweets_for_csv: \n",
        "  tweet_times3.append(tt) "
      ],
      "execution_count": 0,
      "outputs": []
    },
    {
      "metadata": {
        "id": "amb9veIzlzBH",
        "colab_type": "code",
        "outputId": "80387f56-930a-4eb0-e956-d495561f61e0",
        "colab": {
          "base_uri": "https://localhost:8080/",
          "height": 54
        }
      },
      "cell_type": "code",
      "source": [
        "print(user1_embedding)"
      ],
      "execution_count": 3,
      "outputs": [
        {
          "output_type": "stream",
          "text": [
            "[-0.375059, -0.316693, 0.581683, -0.941376, 0.800957, 0.173794, 0.506512, -0.237113, -0.0396377, -0.00407114, -0.639926, -0.111304, -0.261752, 0.290482, -1.00797, -0.305872, 0.374825, -0.416557, 0.271504, -0.0997132, 0.383388, -0.516897, 0.0580225, -0.183415, -0.0401257, -0.759606, 0.449994, -0.577394, -0.55966, -0.0310467, 0.902866, -0.247789, -0.0288131, 0.80999, -0.247501, -0.559329, -0.22733, -0.0968651, 0.0369033, -0.183944, -0.437119, 0.244016, 0.222204, -0.726511, -0.246177, 0.0801402, -2.91123, 0.173483, -0.916558, 0.738686, -0.157333, 0.594903, 0.277338, 0.454855, 0.487249, 0.256405, -0.314081, -0.254316, -0.436334, 0.235318, 0.559296, 0.416811, 0.456997, 0.154668, 0.227699, 0.34254, 0.466037, 0.0304524, -0.791307, 0.382502, 0.20376, -0.514662, 0.284189, 0.647188, 0.0426619, -0.923187, 0.0825708, 0.295492, 0.017821, 0.23174, 0.278296, -0.591534, -0.237333, -0.520391, 0.215813, 0.213083, 0.794024, 0.721586, 0.0809789, 0.667826, -0.197417, -0.526829, 0.508292, 0.318484, 0.135476, -0.467723, 0.0864168, -0.550404, 0.221227, -0.488122, -0.286523, -0.510013, 0.484499, 0.296155, 0.0595806, -0.531523, -0.504583, -0.184623, -0.435616, -0.572363, 0.431346, -0.582563, -0.16354, -0.598773, -0.375859, 0.24054, -0.33313, 0.128413, 0.532791, 0.107185, 0.222858, 0.197107, -0.038007, -0.00417662, 0.77512, -0.301382, 0.140705, -0.223447, 0.291286, 0.297165, 0.548537, 0.406572, -0.340284, 0.273102, -0.341057, 0.791146, -0.294017, 0.206538, -0.105323, 0.290678, -0.0677942, 0.0300751, -1.40305, 0.764213, -0.107525, 0.257354, 0.128348, -1.03, -0.0877677, 0.0351466, 0.0502994, 0.51815, -0.0299526, 0.0718179, -0.297671, 0.599897, 0.124107, -0.101437, -0.650718, -0.307551, 0.0370298, -0.37667, -0.11315, -0.606399, 0.151426, 0.0985279, 0.713635, 0.0712346, 0.273258, 0.0415729, -0.0261793, -0.338492, 0.731373, 0.510592, -0.0124286, -0.140029, -0.0705375, 0.899277, -0.0694336, 0.015792, -0.937082, 0.386506, -0.378296, 0.422942, -0.275242, -0.493428, 0.168765, -0.0823912, 0.504212, 0.44351, 0.441837, 0.224828, 0.678311, -0.384678, 0.446729, -0.174155, -0.436658, -0.376714, 0.606657, 0.251517, 0.214917, 0.965679, -0.101588, 0.0279484, 0.2202, 2.14351, -0.0471903, 0.095966, 0.645274, 0.0974122, -0.571349, -0.105832, -0.312588, -0.255159, 0.0209631, -0.80348, -0.158577, -0.315936, 0.283848, 0.0406411, 0.0398171, 1.1902, 0.0298631, 0.167332, -0.515701, 0.791977, 0.181295, -0.848387, 0.056749, -1.44043, -0.255332, -0.276953, -0.499415, -0.13797, 0.554713, -0.317007, -0.421539, -0.369358, 0.635553, -0.372723, 0.147798, -0.408, -0.105766, 0.538023, -0.396032, 0.130822, 0.446356, 0.542176, -0.792318, -0.152102, 0.167646, -0.337619, -0.328054, -0.00988852, 0.162017, -0.293, -0.466963, -0.452989, 0.499317, 0.880794, -0.581494, 0.261565, -0.248135, 0.114269, -0.154132, -0.484791, -0.189667, -0.714514, 0.514551, 0.499692, 0.360083, 0.394863, -0.969025, -0.734447, 0.374291, -0.0706936, 0.181665, 0.391969, -0.516163, -0.0904324, 0.0351701, 0.100415, -0.1791, 0.505893, 0.340927, 0.474816, 0.44564, -1.21581, 0.150709, -0.151281, -0.119236, 1.1028, 0.195674, -0.0628856, 0.283133, -0.198431, -0.131464, 0.532909, -0.0748307, -0.586433, -0.25734, 0.906928, -0.100927, -0.217497, -0.0767646, -0.396136, -0.458161, 0.335953, -6.11309, 0.175452, 0.412016, -0.0212079, 0.737645, -0.124448, 1.11704, -0.340686, 0.22224, -0.0114375, 0.195502, -0.519492, 0.166569, 0.294058, 0.363009, -0.18755, -0.102716, -0.203763, 0.0587832, 0.385514, -0.506728, -1.14461, 0.392267, 0.0938366, -0.355188, 0.1296, -1.36463, -0.160536, -0.126605, -0.864985, 0.272177, -0.884297, -0.329793, 0.194336, 0.912806, -0.292906, 0.11816, 0.0294859, 1.03765, -0.753111, -0.0287041, 0.913079, -0.00312547, 0.314582, 0.743196, -0.428881, 0.523044, -0.572364, 0.164621, 0.806782, -0.422827, -0.0416992, 0.436892, 0.121821, -0.246345, 0.0744705, 0.00079111, 0.0472812, 0.207281, -0.27029, -0.142067, -0.117237, 0.231833, -0.243618, -0.790323, -0.2893, 0.198131, -0.61934, 0.0129953, -0.16801, -0.281264, -0.00180209, -0.170839, -1.2744, -0.897011, -0.316557, 0.208825, -0.300115, 0.100576, -0.272568, -0.39808, -0.29619, 0.117514, -0.0607215, 0.618408, -0.687454, 0.128756, 0.0671603, -0.394846, 0.248278, 0.486122, -0.502576, -0.28903, 1.3673, 0.483991, 0.365282, 0.321631, -0.335439, 0.221672, 0.130563, -0.462551, -0.455076, -0.249296, 0.212801, -0.204133, -0.563312, 0.402658, 0.0349497, 0.34824, 0.437931, -0.061782, 0.238291, -0.101827, -0.216422, 1.131, 0.215252, 0.0986317, -0.197148, 0.638673, -0.446135, 0.152821, -0.176448, 0.282319, -0.835793, 0.369231, 0.0768942, -0.673184, -0.0700008, -0.119466, 0.701201, -0.0691018, 0.35454, -0.0571294, 0.583855, 0.0846141, -0.308932, -0.872725, 0.0881178, 0.0227184, 0.312627, 0.510728, 0.187921, 0.349162, 0.8444, -0.0153949, 0.337987, 0.217433, 0.286936, 0.441569, -0.092474, 0.366704, 0.155295, -0.44097, -0.147149, -0.438727, -0.0344614, 0.314398, -0.059848, 0.744068, -0.312149, -0.359659, 0.15585, -2.32596, -0.653544, -0.177593, 0.932296, 0.781033, -0.116719, 0.227654, 0.317074, -0.256194, -0.306189, -0.246633, 0.801603, 0.719818, 0.143364, 0.152368, 0.070969, -0.0816695, 0.638342, 0.111232, 0.0426851, -0.406151, 1.46479, -0.42819, -0.610541, 0.069615, -0.114343, -0.110245, 0.0257622, 0.216442, 0.417199, 0.82745, -0.399213, 0.11447, 0.128204, 0.589451, 0.498803, -0.0022279, 0.0180028, -0.507543, -1.06926, -0.402969, 0.227243, 0.32279, -0.373514, 0.38396, -0.471403, -0.579286, -0.6825, -0.524798, -0.290185, 0.19257, -0.18569, 0.00559932, -0.00640704, -0.377281, -0.298889, -0.39821, -0.0566582, -0.16701, -0.354132, 0.332446, 0.0963044, 0.218529, 0.500472, 0.3359, -0.74434, 0.226236, 0.162315, -0.110542, 0.0778653, -0.0879624, -0.0795686, 0.645822, -0.478855, -0.176434, -0.023745, -0.194419, -0.194121, 0.133432, -0.566614, 0.514563, -0.0869076, -0.298798, -0.0830598, -0.256406, -0.0516668, 0.476118, 0.947982, 0.2939, 0.741156, -0.0333385, -0.63831, 0.867314, 0.421434, 0.237869, -0.649054, -0.420432, -0.0194626, -0.405352, -0.251574, 0.110547, 0.597108, 0.637979, 0.496885, 0.393432, 0.261332, 0.419032, -0.0151838, -0.167742, -0.269417, -0.229485, 1.03624, -0.503202, -0.187189, -0.0393838, -0.77019, 0.341385, -0.0109932, 0.76462, 0.318648, -0.49752, -0.182868, -0.0639754, 0.0623211, 0.185424, 0.557601, 0.561289, -0.209736, 0.111868, -0.190838, -0.473706, 0.0781455, -0.598259, -0.775857, -0.669636, -0.383083, 0.0394203, 0.342051, -0.729433, 0.33304, 0.623447, -0.559298, -0.184354, 0.341823, -0.614334, 0.102532, -0.497576, 0.569514, 0.128039, -0.257319, 0.0331186, 0.463313, -0.587641, -0.135496, 0.0247101, -0.249295, -0.0818421, -0.183101, 0.117692, 0.270731, 0.311073, -0.859933, 0.299845, 0.304153, 0.683322, -0.166769, 0.330061, -0.139179, -0.178798, 0.183693, -0.268419, 0.422872, -0.3525, -0.688544, 0.371714, 0.209649, 0.298567, 0.433431, 0.365404, 0.12096, 0.366846, -0.0061653, -0.120349, -0.251085, -0.309197, 0.227666, -0.981582, 0.407019, 0.138827, 0.472731, 0.388789, -0.802791, 0.281568, 0.00111474, 0.535836, -0.294549, 0.180603, -0.619622, 0.721374, 0.68961, -0.496119, 0.0730617, 0.155962, 0.637649, 0.843298, -0.157247, -0.315353, -0.0696958, 0.293696, 0.474279, -0.403085, -0.366989, 0.306477, -0.666195, -0.0831597, -0.169633, -0.175732, -0.0859913, -0.198241, -0.999599, -0.666204, 0.370696, 0.411202, -0.90337, -0.178651, 0.137936, -0.397525, -0.163996, -0.228529, -0.100622, 0.063581, -0.0508777, -0.963448, 0.357238, 0.249386, -0.0863844, 0.769135, -0.249769, 0.153603, -0.186927, 0.114961, 0.567976, 0.650989, 0.465023, 0.157164, 0.410483, -0.236955, 0.0587117, 0.182313, -0.176184, 0.092476, 0.715438, -0.551163, -0.127654, -0.440625, 0.275029, 0.141684, -0.392346, -0.231136, -0.256225, 0.582595, 0.123962, -0.0974345, 0.262284, 0.240011, -0.34592, -0.361982, 0.148731, -0.00573412, 0.88268, -0.172837, 0.258398, -0.205163, 0.0954186, 0.432759, 0.0858126, -0.179945, 0.148893, -0.372443, 0.526198, 0.539433, 0.467575, -2.77986, -0.622755, 0.154619, 0.141048, -0.356416, -0.221747, 0.417652, -0.523159, -0.414486, -0.701753, 0.31109, -0.380329, -1.09713, 1.03269, 0.30707, -0.0370785]\n"
          ],
          "name": "stdout"
        }
      ]
    },
    {
      "metadata": {
        "id": "sRtT15KuBG_O",
        "colab_type": "code",
        "colab": {}
      },
      "cell_type": "code",
      "source": [
        "import pandas as pd\n",
        "serena_tweet_times = pd.DataFrame(tweet_times)\n",
        "alexis_tweet_times = pd.DataFrame(tweet_times2)\n",
        "realqaiqai_tweet_times = pd.DataFrame(tweet_times3)"
      ],
      "execution_count": 0,
      "outputs": []
    },
    {
      "metadata": {
        "id": "s24LmJ2LoHvu",
        "colab_type": "code",
        "outputId": "688e09d8-9ed7-4905-b648-64f9409e80ef",
        "colab": {
          "base_uri": "https://localhost:8080/",
          "height": 71
        }
      },
      "cell_type": "code",
      "source": [
        "import numpy as np\n",
        "from sklearn.linear_model import LogisticRegression\n",
        "\n",
        "embeddings = np.vstack([user1, user2])\n",
        "labels = np.concatenate([np.ones(len(user1)),\n",
        "                         np.zeros(len(user2))])\n",
        "log_reg = LogisticRegression().fit(embeddings, labels)"
      ],
      "execution_count": 5,
      "outputs": [
        {
          "output_type": "stream",
          "text": [
            "/usr/local/lib/python3.6/dist-packages/sklearn/linear_model/logistic.py:433: FutureWarning: Default solver will be changed to 'lbfgs' in 0.22. Specify a solver to silence this warning.\n",
            "  FutureWarning)\n"
          ],
          "name": "stderr"
        }
      ]
    },
    {
      "metadata": {
        "id": "ATp9FA3t-aDj",
        "colab_type": "code",
        "colab": {}
      },
      "cell_type": "code",
      "source": [
        "\n",
        "preds = []\n",
        "for tweets in tmp3:\n",
        "  tweet_embedding = BASILICA.embed_sentence(tweets, model='twitter')\n",
        "  prediction = log_reg.predict(np.array(tweet_embedding).reshape(1, -1))\n",
        "  preds.append(prediction)\n"
      ],
      "execution_count": 0,
      "outputs": []
    },
    {
      "metadata": {
        "id": "kOQ69eTklkWJ",
        "colab_type": "code",
        "outputId": "066220ab-d498-4cf0-e994-86af4c7089fb",
        "colab": {
          "base_uri": "https://localhost:8080/",
          "height": 1598
        }
      },
      "cell_type": "code",
      "source": [
        "preds"
      ],
      "execution_count": 7,
      "outputs": [
        {
          "output_type": "execute_result",
          "data": {
            "text/plain": [
              "[array([1.]),\n",
              " array([1.]),\n",
              " array([0.]),\n",
              " array([1.]),\n",
              " array([0.]),\n",
              " array([1.]),\n",
              " array([1.]),\n",
              " array([1.]),\n",
              " array([0.]),\n",
              " array([0.]),\n",
              " array([1.]),\n",
              " array([1.]),\n",
              " array([0.]),\n",
              " array([1.]),\n",
              " array([1.]),\n",
              " array([1.]),\n",
              " array([0.]),\n",
              " array([1.]),\n",
              " array([1.]),\n",
              " array([0.]),\n",
              " array([1.]),\n",
              " array([1.]),\n",
              " array([0.]),\n",
              " array([0.]),\n",
              " array([0.]),\n",
              " array([0.]),\n",
              " array([1.]),\n",
              " array([1.]),\n",
              " array([1.]),\n",
              " array([1.]),\n",
              " array([0.]),\n",
              " array([1.]),\n",
              " array([1.]),\n",
              " array([0.]),\n",
              " array([1.]),\n",
              " array([1.]),\n",
              " array([0.]),\n",
              " array([1.]),\n",
              " array([1.]),\n",
              " array([1.]),\n",
              " array([0.]),\n",
              " array([1.]),\n",
              " array([1.]),\n",
              " array([0.]),\n",
              " array([1.]),\n",
              " array([1.]),\n",
              " array([0.]),\n",
              " array([1.]),\n",
              " array([0.]),\n",
              " array([0.]),\n",
              " array([1.]),\n",
              " array([1.]),\n",
              " array([0.]),\n",
              " array([1.]),\n",
              " array([1.]),\n",
              " array([1.]),\n",
              " array([1.]),\n",
              " array([1.]),\n",
              " array([1.]),\n",
              " array([0.]),\n",
              " array([0.]),\n",
              " array([1.]),\n",
              " array([1.]),\n",
              " array([0.]),\n",
              " array([1.]),\n",
              " array([1.]),\n",
              " array([1.]),\n",
              " array([0.]),\n",
              " array([1.]),\n",
              " array([1.]),\n",
              " array([0.]),\n",
              " array([0.]),\n",
              " array([0.]),\n",
              " array([1.]),\n",
              " array([1.]),\n",
              " array([1.]),\n",
              " array([1.]),\n",
              " array([1.]),\n",
              " array([1.]),\n",
              " array([0.]),\n",
              " array([1.]),\n",
              " array([1.]),\n",
              " array([0.]),\n",
              " array([1.]),\n",
              " array([1.]),\n",
              " array([1.]),\n",
              " array([0.]),\n",
              " array([1.]),\n",
              " array([0.]),\n",
              " array([0.]),\n",
              " array([1.]),\n",
              " array([1.]),\n",
              " array([0.])]"
            ]
          },
          "metadata": {
            "tags": []
          },
          "execution_count": 7
        }
      ]
    },
    {
      "metadata": {
        "id": "vtbpp140NyPC",
        "colab_type": "code",
        "colab": {}
      },
      "cell_type": "code",
      "source": [
        "results = pd.DataFrame(preds)"
      ],
      "execution_count": 0,
      "outputs": []
    },
    {
      "metadata": {
        "id": "3TD8sOCQN9vu",
        "colab_type": "code",
        "colab": {}
      },
      "cell_type": "code",
      "source": [
        "results[\"prediction\"] = results[0]"
      ],
      "execution_count": 0,
      "outputs": []
    },
    {
      "metadata": {
        "id": "wUH7Bm45SHwp",
        "colab_type": "code",
        "colab": {}
      },
      "cell_type": "code",
      "source": [
        "results[\"prediction\"] = results[\"prediction\"].replace(1, \"Serena\") \n",
        "results[\"prediction\"] = results[\"prediction\"].replace(0, \"Alexis\") "
      ],
      "execution_count": 0,
      "outputs": []
    },
    {
      "metadata": {
        "id": "LMjPhVnhSrRx",
        "colab_type": "code",
        "outputId": "0d33903f-e048-4640-ef96-954b75c74154",
        "colab": {
          "base_uri": "https://localhost:8080/",
          "height": 1969
        }
      },
      "cell_type": "code",
      "source": [
        "results"
      ],
      "execution_count": 11,
      "outputs": [
        {
          "output_type": "execute_result",
          "data": {
            "text/html": [
              "<div>\n",
              "<style scoped>\n",
              "    .dataframe tbody tr th:only-of-type {\n",
              "        vertical-align: middle;\n",
              "    }\n",
              "\n",
              "    .dataframe tbody tr th {\n",
              "        vertical-align: top;\n",
              "    }\n",
              "\n",
              "    .dataframe thead th {\n",
              "        text-align: right;\n",
              "    }\n",
              "</style>\n",
              "<table border=\"1\" class=\"dataframe\">\n",
              "  <thead>\n",
              "    <tr style=\"text-align: right;\">\n",
              "      <th></th>\n",
              "      <th>0</th>\n",
              "      <th>prediction</th>\n",
              "    </tr>\n",
              "  </thead>\n",
              "  <tbody>\n",
              "    <tr>\n",
              "      <th>0</th>\n",
              "      <td>1.0</td>\n",
              "      <td>Serena</td>\n",
              "    </tr>\n",
              "    <tr>\n",
              "      <th>1</th>\n",
              "      <td>1.0</td>\n",
              "      <td>Serena</td>\n",
              "    </tr>\n",
              "    <tr>\n",
              "      <th>2</th>\n",
              "      <td>0.0</td>\n",
              "      <td>Alexis</td>\n",
              "    </tr>\n",
              "    <tr>\n",
              "      <th>3</th>\n",
              "      <td>1.0</td>\n",
              "      <td>Serena</td>\n",
              "    </tr>\n",
              "    <tr>\n",
              "      <th>4</th>\n",
              "      <td>0.0</td>\n",
              "      <td>Alexis</td>\n",
              "    </tr>\n",
              "    <tr>\n",
              "      <th>5</th>\n",
              "      <td>1.0</td>\n",
              "      <td>Serena</td>\n",
              "    </tr>\n",
              "    <tr>\n",
              "      <th>6</th>\n",
              "      <td>1.0</td>\n",
              "      <td>Serena</td>\n",
              "    </tr>\n",
              "    <tr>\n",
              "      <th>7</th>\n",
              "      <td>1.0</td>\n",
              "      <td>Serena</td>\n",
              "    </tr>\n",
              "    <tr>\n",
              "      <th>8</th>\n",
              "      <td>0.0</td>\n",
              "      <td>Alexis</td>\n",
              "    </tr>\n",
              "    <tr>\n",
              "      <th>9</th>\n",
              "      <td>0.0</td>\n",
              "      <td>Alexis</td>\n",
              "    </tr>\n",
              "    <tr>\n",
              "      <th>10</th>\n",
              "      <td>1.0</td>\n",
              "      <td>Serena</td>\n",
              "    </tr>\n",
              "    <tr>\n",
              "      <th>11</th>\n",
              "      <td>1.0</td>\n",
              "      <td>Serena</td>\n",
              "    </tr>\n",
              "    <tr>\n",
              "      <th>12</th>\n",
              "      <td>0.0</td>\n",
              "      <td>Alexis</td>\n",
              "    </tr>\n",
              "    <tr>\n",
              "      <th>13</th>\n",
              "      <td>1.0</td>\n",
              "      <td>Serena</td>\n",
              "    </tr>\n",
              "    <tr>\n",
              "      <th>14</th>\n",
              "      <td>1.0</td>\n",
              "      <td>Serena</td>\n",
              "    </tr>\n",
              "    <tr>\n",
              "      <th>15</th>\n",
              "      <td>1.0</td>\n",
              "      <td>Serena</td>\n",
              "    </tr>\n",
              "    <tr>\n",
              "      <th>16</th>\n",
              "      <td>0.0</td>\n",
              "      <td>Alexis</td>\n",
              "    </tr>\n",
              "    <tr>\n",
              "      <th>17</th>\n",
              "      <td>1.0</td>\n",
              "      <td>Serena</td>\n",
              "    </tr>\n",
              "    <tr>\n",
              "      <th>18</th>\n",
              "      <td>1.0</td>\n",
              "      <td>Serena</td>\n",
              "    </tr>\n",
              "    <tr>\n",
              "      <th>19</th>\n",
              "      <td>0.0</td>\n",
              "      <td>Alexis</td>\n",
              "    </tr>\n",
              "    <tr>\n",
              "      <th>20</th>\n",
              "      <td>1.0</td>\n",
              "      <td>Serena</td>\n",
              "    </tr>\n",
              "    <tr>\n",
              "      <th>21</th>\n",
              "      <td>1.0</td>\n",
              "      <td>Serena</td>\n",
              "    </tr>\n",
              "    <tr>\n",
              "      <th>22</th>\n",
              "      <td>0.0</td>\n",
              "      <td>Alexis</td>\n",
              "    </tr>\n",
              "    <tr>\n",
              "      <th>23</th>\n",
              "      <td>0.0</td>\n",
              "      <td>Alexis</td>\n",
              "    </tr>\n",
              "    <tr>\n",
              "      <th>24</th>\n",
              "      <td>0.0</td>\n",
              "      <td>Alexis</td>\n",
              "    </tr>\n",
              "    <tr>\n",
              "      <th>25</th>\n",
              "      <td>0.0</td>\n",
              "      <td>Alexis</td>\n",
              "    </tr>\n",
              "    <tr>\n",
              "      <th>26</th>\n",
              "      <td>1.0</td>\n",
              "      <td>Serena</td>\n",
              "    </tr>\n",
              "    <tr>\n",
              "      <th>27</th>\n",
              "      <td>1.0</td>\n",
              "      <td>Serena</td>\n",
              "    </tr>\n",
              "    <tr>\n",
              "      <th>28</th>\n",
              "      <td>1.0</td>\n",
              "      <td>Serena</td>\n",
              "    </tr>\n",
              "    <tr>\n",
              "      <th>29</th>\n",
              "      <td>1.0</td>\n",
              "      <td>Serena</td>\n",
              "    </tr>\n",
              "    <tr>\n",
              "      <th>...</th>\n",
              "      <td>...</td>\n",
              "      <td>...</td>\n",
              "    </tr>\n",
              "    <tr>\n",
              "      <th>63</th>\n",
              "      <td>0.0</td>\n",
              "      <td>Alexis</td>\n",
              "    </tr>\n",
              "    <tr>\n",
              "      <th>64</th>\n",
              "      <td>1.0</td>\n",
              "      <td>Serena</td>\n",
              "    </tr>\n",
              "    <tr>\n",
              "      <th>65</th>\n",
              "      <td>1.0</td>\n",
              "      <td>Serena</td>\n",
              "    </tr>\n",
              "    <tr>\n",
              "      <th>66</th>\n",
              "      <td>1.0</td>\n",
              "      <td>Serena</td>\n",
              "    </tr>\n",
              "    <tr>\n",
              "      <th>67</th>\n",
              "      <td>0.0</td>\n",
              "      <td>Alexis</td>\n",
              "    </tr>\n",
              "    <tr>\n",
              "      <th>68</th>\n",
              "      <td>1.0</td>\n",
              "      <td>Serena</td>\n",
              "    </tr>\n",
              "    <tr>\n",
              "      <th>69</th>\n",
              "      <td>1.0</td>\n",
              "      <td>Serena</td>\n",
              "    </tr>\n",
              "    <tr>\n",
              "      <th>70</th>\n",
              "      <td>0.0</td>\n",
              "      <td>Alexis</td>\n",
              "    </tr>\n",
              "    <tr>\n",
              "      <th>71</th>\n",
              "      <td>0.0</td>\n",
              "      <td>Alexis</td>\n",
              "    </tr>\n",
              "    <tr>\n",
              "      <th>72</th>\n",
              "      <td>0.0</td>\n",
              "      <td>Alexis</td>\n",
              "    </tr>\n",
              "    <tr>\n",
              "      <th>73</th>\n",
              "      <td>1.0</td>\n",
              "      <td>Serena</td>\n",
              "    </tr>\n",
              "    <tr>\n",
              "      <th>74</th>\n",
              "      <td>1.0</td>\n",
              "      <td>Serena</td>\n",
              "    </tr>\n",
              "    <tr>\n",
              "      <th>75</th>\n",
              "      <td>1.0</td>\n",
              "      <td>Serena</td>\n",
              "    </tr>\n",
              "    <tr>\n",
              "      <th>76</th>\n",
              "      <td>1.0</td>\n",
              "      <td>Serena</td>\n",
              "    </tr>\n",
              "    <tr>\n",
              "      <th>77</th>\n",
              "      <td>1.0</td>\n",
              "      <td>Serena</td>\n",
              "    </tr>\n",
              "    <tr>\n",
              "      <th>78</th>\n",
              "      <td>1.0</td>\n",
              "      <td>Serena</td>\n",
              "    </tr>\n",
              "    <tr>\n",
              "      <th>79</th>\n",
              "      <td>0.0</td>\n",
              "      <td>Alexis</td>\n",
              "    </tr>\n",
              "    <tr>\n",
              "      <th>80</th>\n",
              "      <td>1.0</td>\n",
              "      <td>Serena</td>\n",
              "    </tr>\n",
              "    <tr>\n",
              "      <th>81</th>\n",
              "      <td>1.0</td>\n",
              "      <td>Serena</td>\n",
              "    </tr>\n",
              "    <tr>\n",
              "      <th>82</th>\n",
              "      <td>0.0</td>\n",
              "      <td>Alexis</td>\n",
              "    </tr>\n",
              "    <tr>\n",
              "      <th>83</th>\n",
              "      <td>1.0</td>\n",
              "      <td>Serena</td>\n",
              "    </tr>\n",
              "    <tr>\n",
              "      <th>84</th>\n",
              "      <td>1.0</td>\n",
              "      <td>Serena</td>\n",
              "    </tr>\n",
              "    <tr>\n",
              "      <th>85</th>\n",
              "      <td>1.0</td>\n",
              "      <td>Serena</td>\n",
              "    </tr>\n",
              "    <tr>\n",
              "      <th>86</th>\n",
              "      <td>0.0</td>\n",
              "      <td>Alexis</td>\n",
              "    </tr>\n",
              "    <tr>\n",
              "      <th>87</th>\n",
              "      <td>1.0</td>\n",
              "      <td>Serena</td>\n",
              "    </tr>\n",
              "    <tr>\n",
              "      <th>88</th>\n",
              "      <td>0.0</td>\n",
              "      <td>Alexis</td>\n",
              "    </tr>\n",
              "    <tr>\n",
              "      <th>89</th>\n",
              "      <td>0.0</td>\n",
              "      <td>Alexis</td>\n",
              "    </tr>\n",
              "    <tr>\n",
              "      <th>90</th>\n",
              "      <td>1.0</td>\n",
              "      <td>Serena</td>\n",
              "    </tr>\n",
              "    <tr>\n",
              "      <th>91</th>\n",
              "      <td>1.0</td>\n",
              "      <td>Serena</td>\n",
              "    </tr>\n",
              "    <tr>\n",
              "      <th>92</th>\n",
              "      <td>0.0</td>\n",
              "      <td>Alexis</td>\n",
              "    </tr>\n",
              "  </tbody>\n",
              "</table>\n",
              "<p>93 rows × 2 columns</p>\n",
              "</div>"
            ],
            "text/plain": [
              "      0 prediction\n",
              "0   1.0     Serena\n",
              "1   1.0     Serena\n",
              "2   0.0     Alexis\n",
              "3   1.0     Serena\n",
              "4   0.0     Alexis\n",
              "5   1.0     Serena\n",
              "6   1.0     Serena\n",
              "7   1.0     Serena\n",
              "8   0.0     Alexis\n",
              "9   0.0     Alexis\n",
              "10  1.0     Serena\n",
              "11  1.0     Serena\n",
              "12  0.0     Alexis\n",
              "13  1.0     Serena\n",
              "14  1.0     Serena\n",
              "15  1.0     Serena\n",
              "16  0.0     Alexis\n",
              "17  1.0     Serena\n",
              "18  1.0     Serena\n",
              "19  0.0     Alexis\n",
              "20  1.0     Serena\n",
              "21  1.0     Serena\n",
              "22  0.0     Alexis\n",
              "23  0.0     Alexis\n",
              "24  0.0     Alexis\n",
              "25  0.0     Alexis\n",
              "26  1.0     Serena\n",
              "27  1.0     Serena\n",
              "28  1.0     Serena\n",
              "29  1.0     Serena\n",
              "..  ...        ...\n",
              "63  0.0     Alexis\n",
              "64  1.0     Serena\n",
              "65  1.0     Serena\n",
              "66  1.0     Serena\n",
              "67  0.0     Alexis\n",
              "68  1.0     Serena\n",
              "69  1.0     Serena\n",
              "70  0.0     Alexis\n",
              "71  0.0     Alexis\n",
              "72  0.0     Alexis\n",
              "73  1.0     Serena\n",
              "74  1.0     Serena\n",
              "75  1.0     Serena\n",
              "76  1.0     Serena\n",
              "77  1.0     Serena\n",
              "78  1.0     Serena\n",
              "79  0.0     Alexis\n",
              "80  1.0     Serena\n",
              "81  1.0     Serena\n",
              "82  0.0     Alexis\n",
              "83  1.0     Serena\n",
              "84  1.0     Serena\n",
              "85  1.0     Serena\n",
              "86  0.0     Alexis\n",
              "87  1.0     Serena\n",
              "88  0.0     Alexis\n",
              "89  0.0     Alexis\n",
              "90  1.0     Serena\n",
              "91  1.0     Serena\n",
              "92  0.0     Alexis\n",
              "\n",
              "[93 rows x 2 columns]"
            ]
          },
          "metadata": {
            "tags": []
          },
          "execution_count": 11
        }
      ]
    },
    {
      "metadata": {
        "id": "xUgJyTRRS8bY",
        "colab_type": "code",
        "outputId": "04a61b8e-236e-4069-c0f0-6a3c5d79226a",
        "colab": {
          "base_uri": "https://localhost:8080/",
          "height": 318
        }
      },
      "cell_type": "code",
      "source": [
        "import seaborn as sns\n",
        "sns.set(style=\"darkgrid\")\n",
        "sns.countplot(x='prediction', data=results, palette=\"Set2\").set_title('Author Prediction for RealQaiQai')"
      ],
      "execution_count": 12,
      "outputs": [
        {
          "output_type": "execute_result",
          "data": {
            "text/plain": [
              "Text(0.5, 1.0, 'Author Prediction for RealQaiQai')"
            ]
          },
          "metadata": {
            "tags": []
          },
          "execution_count": 12
        },
        {
          "output_type": "display_data",
          "data": {
            "image/png": "[encoded data removed]",
            "text/plain": [
              "<Figure size 432x288 with 1 Axes>"
            ]
          },
          "metadata": {
            "tags": []
          }
        }
      ]
    },
    {
      "metadata": {
        "id": "A_0Z5p5xoNtB",
        "colab_type": "code",
        "outputId": "e3dedbab-2d13-4190-aa2b-11a814507441",
        "colab": {
          "base_uri": "https://localhost:8080/",
          "height": 68
        }
      },
      "cell_type": "code",
      "source": [
        "results['prediction'].value_counts()\n",
        "\n"
      ],
      "execution_count": 0,
      "outputs": [
        {
          "output_type": "execute_result",
          "data": {
            "text/plain": [
              "Serena    54\n",
              "Alexis    41\n",
              "Name: prediction, dtype: int64"
            ]
          },
          "metadata": {
            "tags": []
          },
          "execution_count": 28
        }
      ]
    },
    {
      "metadata": {
        "id": "-3KET2hkWj55",
        "colab_type": "code",
        "colab": {}
      },
      "cell_type": "code",
      "source": [
        "[-0.485898, -0.21868, 0.898436, -0.885947, 0.973105, 0.115463, 0.207508, 0.313808, -0.372795, \n",
        " -0.75773, -0.814398, 0.702742, -0.447846, -0.190936, -1.35669, -0.647261, 0.226654, \n",
        " -1.42672, -0.132541, -0.0748852, 0.0915741, -0.0845283, -0.932917, \n",
        " -0.162257, 0.146233, -0.710335, -0.263328, -1.11616, -0.590091, -0.412603, \n",
        " 0.0778081, -0.308075, -0.0392159, 0.8991, -0.62728, 0.0354784, 0.0445394, \n",
        " -1.08936, 0.489493, 0.145349, -0.0688905, 0.370443, -0.117785, -1.19763, \n",
        " 0.189705, -0.114372, -2.45306, -0.510321, 0.341538, -0.127009, 0.455373, \n",
        " -0.0198026, -0.815872, 0.0482393, 0.696047, 0.322506, -0.558229, 0.662123, \n",
        " -1.18184, -0.204376, 0.43381, -0.111766, -0.081066, 0.231864, 0.309805, \n",
        " 0.0386353, 0.100716, -0.639384, -0.580831, 1.17656, 0.0859299, -0.396736,"
      ],
      "execution_count": 0,
      "outputs": []
    }
  ]
}